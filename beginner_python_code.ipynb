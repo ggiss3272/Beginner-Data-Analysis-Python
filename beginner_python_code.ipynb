{
 "cells": [
  {
   "cell_type": "code",
   "execution_count": 3,
   "id": "124879fe",
   "metadata": {},
   "outputs": [
    {
     "name": "stdout",
     "output_type": "stream",
     "text": [
      "First 5 rows:\n"
     ]
    },
    {
     "data": {
      "text/html": [
       "<div>\n",
       "<style scoped>\n",
       "    .dataframe tbody tr th:only-of-type {\n",
       "        vertical-align: middle;\n",
       "    }\n",
       "\n",
       "    .dataframe tbody tr th {\n",
       "        vertical-align: top;\n",
       "    }\n",
       "\n",
       "    .dataframe thead th {\n",
       "        text-align: right;\n",
       "    }\n",
       "</style>\n",
       "<table border=\"1\" class=\"dataframe\">\n",
       "  <thead>\n",
       "    <tr style=\"text-align: right;\">\n",
       "      <th></th>\n",
       "      <th>OrderID</th>\n",
       "      <th>Date</th>\n",
       "      <th>Product</th>\n",
       "      <th>Category</th>\n",
       "      <th>Quantity</th>\n",
       "      <th>UnitPrice</th>\n",
       "      <th>TotalSales</th>\n",
       "    </tr>\n",
       "  </thead>\n",
       "  <tbody>\n",
       "    <tr>\n",
       "      <th>0</th>\n",
       "      <td>1000</td>\n",
       "      <td>2023-01-01</td>\n",
       "      <td>Headphones</td>\n",
       "      <td>Accessories</td>\n",
       "      <td>1</td>\n",
       "      <td>150</td>\n",
       "      <td>150</td>\n",
       "    </tr>\n",
       "    <tr>\n",
       "      <th>1</th>\n",
       "      <td>1001</td>\n",
       "      <td>2023-01-01</td>\n",
       "      <td>Mouse</td>\n",
       "      <td>Accessories</td>\n",
       "      <td>3</td>\n",
       "      <td>50</td>\n",
       "      <td>150</td>\n",
       "    </tr>\n",
       "    <tr>\n",
       "      <th>2</th>\n",
       "      <td>1002</td>\n",
       "      <td>2023-01-01</td>\n",
       "      <td>Monitor</td>\n",
       "      <td>Electronics</td>\n",
       "      <td>1</td>\n",
       "      <td>300</td>\n",
       "      <td>300</td>\n",
       "    </tr>\n",
       "    <tr>\n",
       "      <th>3</th>\n",
       "      <td>1003</td>\n",
       "      <td>2023-01-01</td>\n",
       "      <td>Mouse</td>\n",
       "      <td>Accessories</td>\n",
       "      <td>2</td>\n",
       "      <td>50</td>\n",
       "      <td>100</td>\n",
       "    </tr>\n",
       "    <tr>\n",
       "      <th>4</th>\n",
       "      <td>1004</td>\n",
       "      <td>2023-01-01</td>\n",
       "      <td>Tablet</td>\n",
       "      <td>Electronics</td>\n",
       "      <td>3</td>\n",
       "      <td>500</td>\n",
       "      <td>1500</td>\n",
       "    </tr>\n",
       "  </tbody>\n",
       "</table>\n",
       "</div>"
      ],
      "text/plain": [
       "   OrderID        Date     Product     Category  Quantity  UnitPrice  \\\n",
       "0     1000  2023-01-01  Headphones  Accessories         1        150   \n",
       "1     1001  2023-01-01       Mouse  Accessories         3         50   \n",
       "2     1002  2023-01-01     Monitor  Electronics         1        300   \n",
       "3     1003  2023-01-01       Mouse  Accessories         2         50   \n",
       "4     1004  2023-01-01      Tablet  Electronics         3        500   \n",
       "\n",
       "   TotalSales  \n",
       "0         150  \n",
       "1         150  \n",
       "2         300  \n",
       "3         100  \n",
       "4        1500  "
      ]
     },
     "metadata": {},
     "output_type": "display_data"
    },
    {
     "name": "stdout",
     "output_type": "stream",
     "text": [
      "\n",
      "Dataset Info:\n",
      "<class 'pandas.core.frame.DataFrame'>\n",
      "RangeIndex: 3481 entries, 0 to 3480\n",
      "Data columns (total 7 columns):\n",
      " #   Column      Non-Null Count  Dtype \n",
      "---  ------      --------------  ----- \n",
      " 0   OrderID     3481 non-null   int64 \n",
      " 1   Date        3481 non-null   object\n",
      " 2   Product     3481 non-null   object\n",
      " 3   Category    3481 non-null   object\n",
      " 4   Quantity    3481 non-null   int64 \n",
      " 5   UnitPrice   3481 non-null   int64 \n",
      " 6   TotalSales  3481 non-null   int64 \n",
      "dtypes: int64(4), object(3)\n",
      "memory usage: 190.5+ KB\n",
      "\n",
      "Summary Statistics:\n"
     ]
    },
    {
     "data": {
      "text/html": [
       "<div>\n",
       "<style scoped>\n",
       "    .dataframe tbody tr th:only-of-type {\n",
       "        vertical-align: middle;\n",
       "    }\n",
       "\n",
       "    .dataframe tbody tr th {\n",
       "        vertical-align: top;\n",
       "    }\n",
       "\n",
       "    .dataframe thead th {\n",
       "        text-align: right;\n",
       "    }\n",
       "</style>\n",
       "<table border=\"1\" class=\"dataframe\">\n",
       "  <thead>\n",
       "    <tr style=\"text-align: right;\">\n",
       "      <th></th>\n",
       "      <th>OrderID</th>\n",
       "      <th>Quantity</th>\n",
       "      <th>UnitPrice</th>\n",
       "      <th>TotalSales</th>\n",
       "    </tr>\n",
       "  </thead>\n",
       "  <tbody>\n",
       "    <tr>\n",
       "      <th>count</th>\n",
       "      <td>3481.000000</td>\n",
       "      <td>3481.000000</td>\n",
       "      <td>3481.000000</td>\n",
       "      <td>3481.000000</td>\n",
       "    </tr>\n",
       "    <tr>\n",
       "      <th>mean</th>\n",
       "      <td>2740.000000</td>\n",
       "      <td>2.485205</td>\n",
       "      <td>445.101982</td>\n",
       "      <td>1106.004022</td>\n",
       "    </tr>\n",
       "    <tr>\n",
       "      <th>std</th>\n",
       "      <td>1005.022471</td>\n",
       "      <td>1.133792</td>\n",
       "      <td>395.928992</td>\n",
       "      <td>1199.332850</td>\n",
       "    </tr>\n",
       "    <tr>\n",
       "      <th>min</th>\n",
       "      <td>1000.000000</td>\n",
       "      <td>1.000000</td>\n",
       "      <td>50.000000</td>\n",
       "      <td>50.000000</td>\n",
       "    </tr>\n",
       "    <tr>\n",
       "      <th>25%</th>\n",
       "      <td>1870.000000</td>\n",
       "      <td>1.000000</td>\n",
       "      <td>100.000000</td>\n",
       "      <td>200.000000</td>\n",
       "    </tr>\n",
       "    <tr>\n",
       "      <th>50%</th>\n",
       "      <td>2740.000000</td>\n",
       "      <td>2.000000</td>\n",
       "      <td>300.000000</td>\n",
       "      <td>600.000000</td>\n",
       "    </tr>\n",
       "    <tr>\n",
       "      <th>75%</th>\n",
       "      <td>3610.000000</td>\n",
       "      <td>4.000000</td>\n",
       "      <td>800.000000</td>\n",
       "      <td>1500.000000</td>\n",
       "    </tr>\n",
       "    <tr>\n",
       "      <th>max</th>\n",
       "      <td>4480.000000</td>\n",
       "      <td>4.000000</td>\n",
       "      <td>1200.000000</td>\n",
       "      <td>4800.000000</td>\n",
       "    </tr>\n",
       "  </tbody>\n",
       "</table>\n",
       "</div>"
      ],
      "text/plain": [
       "           OrderID     Quantity    UnitPrice   TotalSales\n",
       "count  3481.000000  3481.000000  3481.000000  3481.000000\n",
       "mean   2740.000000     2.485205   445.101982  1106.004022\n",
       "std    1005.022471     1.133792   395.928992  1199.332850\n",
       "min    1000.000000     1.000000    50.000000    50.000000\n",
       "25%    1870.000000     1.000000   100.000000   200.000000\n",
       "50%    2740.000000     2.000000   300.000000   600.000000\n",
       "75%    3610.000000     4.000000   800.000000  1500.000000\n",
       "max    4480.000000     4.000000  1200.000000  4800.000000"
      ]
     },
     "metadata": {},
     "output_type": "display_data"
    }
   ],
   "source": [
    "import pandas as pd\n",
    "\n",
    "# Load the dataset\n",
    "df = pd.read_csv(\"sales_data.csv\")\n",
    "\n",
    "# Then preview the first 5 rows\n",
    "print(\"First 5 rows:\")\n",
    "display(df.head())\n",
    "\n",
    "# check basic info about the dataset\n",
    "print(\"\\nDataset Info:\")\n",
    "df.info()\n",
    "\n",
    "# summarize key statistics\n",
    "print(\"\\nSummary Statistics:\")\n",
    "display(df.describe())"
   ]
  },
  {
   "cell_type": "markdown",
   "id": "6f5adfaf",
   "metadata": {},
   "source": [
    "# Now we clean the data; check for missing/duplicate values, drop any columns, make any changes necessary"
   ]
  },
  {
   "cell_type": "code",
   "execution_count": null,
   "id": "fb1f3671",
   "metadata": {},
   "outputs": [
    {
     "name": "stdout",
     "output_type": "stream",
     "text": [
      "Missing values per column:\n",
      "OrderID       0\n",
      "Date          0\n",
      "Product       0\n",
      "Category      0\n",
      "Quantity      0\n",
      "UnitPrice     0\n",
      "TotalSales    0\n",
      "dtype: int64\n",
      "\n",
      "Data types after cleaning:\n",
      "OrderID                int64\n",
      "Date          datetime64[ns]\n",
      "Product               object\n",
      "Category              object\n",
      "Quantity               int64\n",
      "UnitPrice              int64\n",
      "TotalSales             int64\n",
      "dtype: object\n",
      "      OrderID       Date     Product     Category  Quantity  UnitPrice  \\\n",
      "1936     2936 2023-07-22      Laptop  Electronics         2       1200   \n",
      "835      1835 2023-03-31      Tablet  Electronics         1        500   \n",
      "2742     3742 2023-10-16     Monitor  Electronics         1        300   \n",
      "1830     2830 2023-07-10       Phone  Electronics         2        800   \n",
      "1078     2078 2023-04-26      Tablet  Electronics         4        500   \n",
      "648      1648 2023-03-13      Tablet  Electronics         2        500   \n",
      "2690     3690 2023-10-11     Monitor  Electronics         4        300   \n",
      "3116     4116 2023-11-23     Monitor  Electronics         2        300   \n",
      "1022     2022 2023-04-19       Phone  Electronics         4        800   \n",
      "2778     3778 2023-10-20       Mouse  Accessories         2         50   \n",
      "761      1761 2023-03-23       Phone  Electronics         3        800   \n",
      "2153     3153 2023-08-14      Tablet  Electronics         1        500   \n",
      "3137     4137 2023-11-25      Laptop  Electronics         3       1200   \n",
      "3045     4045 2023-11-16       Mouse  Accessories         3         50   \n",
      "60       1060 2023-01-06      Laptop  Electronics         4       1200   \n",
      "2398     3398 2023-09-11      Laptop  Electronics         1       1200   \n",
      "2920     3920 2023-11-04       Mouse  Accessories         2         50   \n",
      "2929     3929 2023-11-05  Headphones  Accessories         1        150   \n",
      "302      1302 2023-01-31      Laptop  Electronics         4       1200   \n",
      "3474     4474 2023-12-31       Phone  Electronics         1        800   \n",
      "\n",
      "      TotalSales  \n",
      "1936        2400  \n",
      "835          500  \n",
      "2742         300  \n",
      "1830        1600  \n",
      "1078        2000  \n",
      "648         1000  \n",
      "2690        1200  \n",
      "3116         600  \n",
      "1022        3200  \n",
      "2778         100  \n",
      "761         2400  \n",
      "2153         500  \n",
      "3137        3600  \n",
      "3045         150  \n",
      "60          4800  \n",
      "2398        1200  \n",
      "2920         100  \n",
      "2929         150  \n",
      "302         4800  \n",
      "3474         800  \n"
     ]
    },
    {
     "data": {
      "text/html": [
       "<div>\n",
       "<style scoped>\n",
       "    .dataframe tbody tr th:only-of-type {\n",
       "        vertical-align: middle;\n",
       "    }\n",
       "\n",
       "    .dataframe tbody tr th {\n",
       "        vertical-align: top;\n",
       "    }\n",
       "\n",
       "    .dataframe thead th {\n",
       "        text-align: right;\n",
       "    }\n",
       "</style>\n",
       "<table border=\"1\" class=\"dataframe\">\n",
       "  <thead>\n",
       "    <tr style=\"text-align: right;\">\n",
       "      <th></th>\n",
       "      <th>OrderID</th>\n",
       "      <th>Date</th>\n",
       "      <th>Product</th>\n",
       "      <th>Category</th>\n",
       "      <th>Quantity</th>\n",
       "      <th>UnitPrice</th>\n",
       "      <th>TotalSales</th>\n",
       "    </tr>\n",
       "  </thead>\n",
       "  <tbody>\n",
       "    <tr>\n",
       "      <th>801</th>\n",
       "      <td>1801</td>\n",
       "      <td>2023-03-28</td>\n",
       "      <td>Laptop</td>\n",
       "      <td>Electronics</td>\n",
       "      <td>2</td>\n",
       "      <td>1200</td>\n",
       "      <td>2400</td>\n",
       "    </tr>\n",
       "    <tr>\n",
       "      <th>2003</th>\n",
       "      <td>3003</td>\n",
       "      <td>2023-07-29</td>\n",
       "      <td>Headphones</td>\n",
       "      <td>Accessories</td>\n",
       "      <td>1</td>\n",
       "      <td>150</td>\n",
       "      <td>150</td>\n",
       "    </tr>\n",
       "    <tr>\n",
       "      <th>992</th>\n",
       "      <td>1992</td>\n",
       "      <td>2023-04-16</td>\n",
       "      <td>Keyboard</td>\n",
       "      <td>Accessories</td>\n",
       "      <td>1</td>\n",
       "      <td>100</td>\n",
       "      <td>100</td>\n",
       "    </tr>\n",
       "    <tr>\n",
       "      <th>765</th>\n",
       "      <td>1765</td>\n",
       "      <td>2023-03-24</td>\n",
       "      <td>Mouse</td>\n",
       "      <td>Accessories</td>\n",
       "      <td>3</td>\n",
       "      <td>50</td>\n",
       "      <td>150</td>\n",
       "    </tr>\n",
       "    <tr>\n",
       "      <th>1720</th>\n",
       "      <td>2720</td>\n",
       "      <td>2023-06-30</td>\n",
       "      <td>Monitor</td>\n",
       "      <td>Electronics</td>\n",
       "      <td>3</td>\n",
       "      <td>300</td>\n",
       "      <td>900</td>\n",
       "    </tr>\n",
       "    <tr>\n",
       "      <th>255</th>\n",
       "      <td>1255</td>\n",
       "      <td>2023-01-26</td>\n",
       "      <td>Monitor</td>\n",
       "      <td>Electronics</td>\n",
       "      <td>4</td>\n",
       "      <td>300</td>\n",
       "      <td>1200</td>\n",
       "    </tr>\n",
       "    <tr>\n",
       "      <th>1226</th>\n",
       "      <td>2226</td>\n",
       "      <td>2023-05-09</td>\n",
       "      <td>Mouse</td>\n",
       "      <td>Accessories</td>\n",
       "      <td>1</td>\n",
       "      <td>50</td>\n",
       "      <td>50</td>\n",
       "    </tr>\n",
       "    <tr>\n",
       "      <th>3186</th>\n",
       "      <td>4186</td>\n",
       "      <td>2023-11-29</td>\n",
       "      <td>Mouse</td>\n",
       "      <td>Accessories</td>\n",
       "      <td>4</td>\n",
       "      <td>50</td>\n",
       "      <td>200</td>\n",
       "    </tr>\n",
       "    <tr>\n",
       "      <th>1942</th>\n",
       "      <td>2942</td>\n",
       "      <td>2023-07-23</td>\n",
       "      <td>Tablet</td>\n",
       "      <td>Electronics</td>\n",
       "      <td>2</td>\n",
       "      <td>500</td>\n",
       "      <td>1000</td>\n",
       "    </tr>\n",
       "    <tr>\n",
       "      <th>857</th>\n",
       "      <td>1857</td>\n",
       "      <td>2023-04-03</td>\n",
       "      <td>Laptop</td>\n",
       "      <td>Electronics</td>\n",
       "      <td>1</td>\n",
       "      <td>1200</td>\n",
       "      <td>1200</td>\n",
       "    </tr>\n",
       "    <tr>\n",
       "      <th>2667</th>\n",
       "      <td>3667</td>\n",
       "      <td>2023-10-08</td>\n",
       "      <td>Keyboard</td>\n",
       "      <td>Accessories</td>\n",
       "      <td>4</td>\n",
       "      <td>100</td>\n",
       "      <td>400</td>\n",
       "    </tr>\n",
       "    <tr>\n",
       "      <th>2047</th>\n",
       "      <td>3047</td>\n",
       "      <td>2023-08-03</td>\n",
       "      <td>Phone</td>\n",
       "      <td>Electronics</td>\n",
       "      <td>3</td>\n",
       "      <td>800</td>\n",
       "      <td>2400</td>\n",
       "    </tr>\n",
       "    <tr>\n",
       "      <th>2295</th>\n",
       "      <td>3295</td>\n",
       "      <td>2023-08-30</td>\n",
       "      <td>Tablet</td>\n",
       "      <td>Electronics</td>\n",
       "      <td>1</td>\n",
       "      <td>500</td>\n",
       "      <td>500</td>\n",
       "    </tr>\n",
       "    <tr>\n",
       "      <th>3275</th>\n",
       "      <td>4275</td>\n",
       "      <td>2023-12-09</td>\n",
       "      <td>Mouse</td>\n",
       "      <td>Accessories</td>\n",
       "      <td>4</td>\n",
       "      <td>50</td>\n",
       "      <td>200</td>\n",
       "    </tr>\n",
       "    <tr>\n",
       "      <th>2024</th>\n",
       "      <td>3024</td>\n",
       "      <td>2023-07-31</td>\n",
       "      <td>Monitor</td>\n",
       "      <td>Electronics</td>\n",
       "      <td>4</td>\n",
       "      <td>300</td>\n",
       "      <td>1200</td>\n",
       "    </tr>\n",
       "    <tr>\n",
       "      <th>1059</th>\n",
       "      <td>2059</td>\n",
       "      <td>2023-04-24</td>\n",
       "      <td>Phone</td>\n",
       "      <td>Electronics</td>\n",
       "      <td>3</td>\n",
       "      <td>800</td>\n",
       "      <td>2400</td>\n",
       "    </tr>\n",
       "    <tr>\n",
       "      <th>1319</th>\n",
       "      <td>2319</td>\n",
       "      <td>2023-05-19</td>\n",
       "      <td>Headphones</td>\n",
       "      <td>Accessories</td>\n",
       "      <td>4</td>\n",
       "      <td>150</td>\n",
       "      <td>600</td>\n",
       "    </tr>\n",
       "    <tr>\n",
       "      <th>2256</th>\n",
       "      <td>3256</td>\n",
       "      <td>2023-08-26</td>\n",
       "      <td>Headphones</td>\n",
       "      <td>Accessories</td>\n",
       "      <td>1</td>\n",
       "      <td>150</td>\n",
       "      <td>150</td>\n",
       "    </tr>\n",
       "    <tr>\n",
       "      <th>2500</th>\n",
       "      <td>3500</td>\n",
       "      <td>2023-09-24</td>\n",
       "      <td>Mouse</td>\n",
       "      <td>Accessories</td>\n",
       "      <td>3</td>\n",
       "      <td>50</td>\n",
       "      <td>150</td>\n",
       "    </tr>\n",
       "    <tr>\n",
       "      <th>1075</th>\n",
       "      <td>2075</td>\n",
       "      <td>2023-04-25</td>\n",
       "      <td>Laptop</td>\n",
       "      <td>Electronics</td>\n",
       "      <td>1</td>\n",
       "      <td>1200</td>\n",
       "      <td>1200</td>\n",
       "    </tr>\n",
       "  </tbody>\n",
       "</table>\n",
       "</div>"
      ],
      "text/plain": [
       "      OrderID       Date     Product     Category  Quantity  UnitPrice  \\\n",
       "801      1801 2023-03-28      Laptop  Electronics         2       1200   \n",
       "2003     3003 2023-07-29  Headphones  Accessories         1        150   \n",
       "992      1992 2023-04-16    Keyboard  Accessories         1        100   \n",
       "765      1765 2023-03-24       Mouse  Accessories         3         50   \n",
       "1720     2720 2023-06-30     Monitor  Electronics         3        300   \n",
       "255      1255 2023-01-26     Monitor  Electronics         4        300   \n",
       "1226     2226 2023-05-09       Mouse  Accessories         1         50   \n",
       "3186     4186 2023-11-29       Mouse  Accessories         4         50   \n",
       "1942     2942 2023-07-23      Tablet  Electronics         2        500   \n",
       "857      1857 2023-04-03      Laptop  Electronics         1       1200   \n",
       "2667     3667 2023-10-08    Keyboard  Accessories         4        100   \n",
       "2047     3047 2023-08-03       Phone  Electronics         3        800   \n",
       "2295     3295 2023-08-30      Tablet  Electronics         1        500   \n",
       "3275     4275 2023-12-09       Mouse  Accessories         4         50   \n",
       "2024     3024 2023-07-31     Monitor  Electronics         4        300   \n",
       "1059     2059 2023-04-24       Phone  Electronics         3        800   \n",
       "1319     2319 2023-05-19  Headphones  Accessories         4        150   \n",
       "2256     3256 2023-08-26  Headphones  Accessories         1        150   \n",
       "2500     3500 2023-09-24       Mouse  Accessories         3         50   \n",
       "1075     2075 2023-04-25      Laptop  Electronics         1       1200   \n",
       "\n",
       "      TotalSales  \n",
       "801         2400  \n",
       "2003         150  \n",
       "992          100  \n",
       "765          150  \n",
       "1720         900  \n",
       "255         1200  \n",
       "1226          50  \n",
       "3186         200  \n",
       "1942        1000  \n",
       "857         1200  \n",
       "2667         400  \n",
       "2047        2400  \n",
       "2295         500  \n",
       "3275         200  \n",
       "2024        1200  \n",
       "1059        2400  \n",
       "1319         600  \n",
       "2256         150  \n",
       "2500         150  \n",
       "1075        1200  "
      ]
     },
     "metadata": {},
     "output_type": "display_data"
    }
   ],
   "source": [
    "# check for missing values\n",
    "print(\"Missing values per column:\")\n",
    "print(df.isnull().sum())\n",
    "\n",
    "# drop any duplicate rows, if any\n",
    "df = df.drop_duplicates()\n",
    "\n",
    "# correct data types\n",
    "df['Date'] = pd.to_datetime(df['Date'])\n",
    "\n",
    "# double check the data types\n",
    "print(\"\\nData types after cleaning:\")\n",
    "print(df.dtypes)\n",
    "\n",
    "# check table\n",
    "print(df.sample(20))\n",
    "display(df.sample(20))"
   ]
  },
  {
   "cell_type": "code",
   "execution_count": 11,
   "id": "b0de7844",
   "metadata": {},
   "outputs": [
    {
     "name": "stdout",
     "output_type": "stream",
     "text": [
      "Number of mismatches: 0\n"
     ]
    }
   ],
   "source": [
    "# quick check for calculation errors\n",
    "df['CheckTotal'] = df['Quantity'] * df['UnitPrice']\n",
    "\n",
    "# compare with TotalSales\n",
    "mismatches = df[df['CheckTotal'] != df['TotalSales']]\n",
    "print(\"Number of mismatches:\", len(mismatches))\n",
    "\n",
    "# if any mismatches, show the first few\n",
    "if len(mismatches)> 0:\n",
    "    display(mismatches.head())"
   ]
  },
  {
   "cell_type": "markdown",
   "id": "6517a9f2",
   "metadata": {},
   "source": [
    "# Data set is clean. Now we will move on to analyzing the data/answering some questions that might be useful"
   ]
  },
  {
   "cell_type": "code",
   "execution_count": 12,
   "id": "3ed6365c",
   "metadata": {},
   "outputs": [
    {
     "name": "stdout",
     "output_type": "stream",
     "text": [
      "Total Sales (all time): $ 3850000\n"
     ]
    }
   ],
   "source": [
    "# total sales overall\n",
    "total_sales = df['TotalSales'].sum()\n",
    "print(\"Total Sales (all time): $\", total_sales)"
   ]
  },
  {
   "cell_type": "markdown",
   "id": "5122f9cb",
   "metadata": {},
   "source": [
    "### ^^^ The total sales made is $3,850,000"
   ]
  },
  {
   "cell_type": "code",
   "execution_count": 14,
   "id": "c0b9ba2a",
   "metadata": {},
   "outputs": [
    {
     "name": "stdout",
     "output_type": "stream",
     "text": [
      "Sales by Product:\n",
      "Product\n",
      "Laptop        1518000\n",
      "Phone          994400\n",
      "Tablet         610500\n",
      "Monitor        361800\n",
      "Headphones     177600\n",
      "Keyboard       122200\n",
      "Mouse           65500\n",
      "Name: TotalSales, dtype: int64\n"
     ]
    }
   ],
   "source": [
    "# top products by sales\n",
    "sales_by_product = df.groupby('Product')['TotalSales'].sum().sort_values(ascending=False)\n",
    "print(\"Sales by Product:\")\n",
    "print(sales_by_product)"
   ]
  },
  {
   "cell_type": "markdown",
   "id": "56f94ef0",
   "metadata": {},
   "source": [
    "### ^^^ This shows the total revenue made for each product in ascending order (most to least); Laptops made the most revenue ^^^"
   ]
  },
  {
   "cell_type": "code",
   "execution_count": 16,
   "id": "964f0606",
   "metadata": {},
   "outputs": [
    {
     "name": "stdout",
     "output_type": "stream",
     "text": [
      "Sales by Category:\n",
      "Category\n",
      "Electronics    3484700\n",
      "Accessories     365300\n",
      "Name: TotalSales, dtype: int64\n"
     ]
    }
   ],
   "source": [
    "# sales by category\n",
    "sales_by_category = df.groupby('Category')['TotalSales'].sum().sort_values(ascending=False)\n",
    "print(\"Sales by Category:\")\n",
    "print(sales_by_category)"
   ]
  },
  {
   "cell_type": "markdown",
   "id": "fc7c7bdc",
   "metadata": {},
   "source": [
    "### ^^^ This shows the sales by category; between electronics & accessories, electronics made the most sales."
   ]
  },
  {
   "cell_type": "code",
   "execution_count": 17,
   "id": "19f1ada0",
   "metadata": {},
   "outputs": [
    {
     "name": "stdout",
     "output_type": "stream",
     "text": [
      "Monthly Sales Trend:\n",
      "Date\n",
      "2023-01    353600\n",
      "2023-02    240800\n",
      "2023-03    356100\n",
      "2023-04    317550\n",
      "2023-05    339450\n",
      "2023-06    287700\n",
      "2023-07    390600\n",
      "2023-08    297250\n",
      "2023-09    275250\n",
      "2023-10    353500\n",
      "2023-11    336850\n",
      "2023-12    301350\n",
      "Freq: M, Name: TotalSales, dtype: int64\n"
     ]
    }
   ],
   "source": [
    "# monthly sales trend\n",
    "monthly_sales = df.groupby(df['Date'].dt.to_period('M'))['TotalSales'].sum()\n",
    "print(\"Monthly Sales Trend:\")\n",
    "print(monthly_sales)"
   ]
  },
  {
   "cell_type": "markdown",
   "id": "834e7569",
   "metadata": {},
   "source": [
    "### ^^^ This shows the total monthly revenue; We can use this for plotting a visual later."
   ]
  },
  {
   "cell_type": "markdown",
   "id": "d632ae9d",
   "metadata": {},
   "source": [
    "# Now we will look into the customer behavior over time; The most bought/popular product per month; This is so we can know if more customers buy a product during a certain season or holidays."
   ]
  },
  {
   "cell_type": "code",
   "execution_count": null,
   "id": "af35c23b",
   "metadata": {},
   "outputs": [
    {
     "name": "stdout",
     "output_type": "stream",
     "text": [
      "      Date     Product  Quantity\n",
      "0  2023-01  Headphones       116\n",
      "1  2023-01    Keyboard        96\n",
      "2  2023-01      Laptop       136\n",
      "3  2023-01     Monitor       106\n",
      "4  2023-01       Mouse       126\n",
      "5  2023-01       Phone        96\n",
      "6  2023-01      Tablet        97\n",
      "7  2023-02  Headphones        59\n",
      "8  2023-02    Keyboard        64\n",
      "9  2023-02      Laptop        73\n",
      "       Date     Product  Quantity\n",
      "2   2023-01      Laptop       136\n",
      "10  2023-02     Monitor        92\n",
      "15  2023-03    Keyboard       126\n",
      "27  2023-04      Tablet       115\n",
      "28  2023-05  Headphones       139\n",
      "38  2023-06     Monitor       120\n",
      "48  2023-07      Tablet       140\n",
      "53  2023-08       Mouse       112\n",
      "56  2023-09  Headphones       118\n",
      "69  2023-10      Tablet       145\n",
      "74  2023-11       Mouse       147\n",
      "81  2023-12       Mouse       127\n"
     ]
    }
   ],
   "source": [
    "# Group by month and product then sum up the quantities\n",
    "product_monthly = df.groupby([df['Date'].dt.to_period('M'), 'Product'])['Quantity'].sum().reset_index()\n",
    "print(product_monthly.head(10)) # preview\n",
    "\n",
    "# Find the top-selling product each month\n",
    "top_products_per_month = product_monthly.loc[product_monthly.groupby('Date')['Quantity'].idxmax()]\n",
    "print(top_products_per_month)"
   ]
  },
  {
   "cell_type": "markdown",
   "id": "5d4b10cd",
   "metadata": {},
   "source": [
    "### ^^^ We can preview the data for the quantity of products sold per month; Then we find the top selling product per month. This tells us what's most popular for each month.  "
   ]
  },
  {
   "cell_type": "markdown",
   "id": "337742eb",
   "metadata": {},
   "source": [
    "# Now we will plot a chart for the monthly sales trend to visualize how the total sales change over time."
   ]
  },
  {
   "cell_type": "code",
   "execution_count": null,
   "id": "1394d374",
   "metadata": {},
   "outputs": [
    {
     "data": {
      "image/png": "[encoded data removed]",
      "text/plain": [
       "<Figure size 1200x600 with 1 Axes>"
      ]
     },
     "metadata": {},
     "output_type": "display_data"
    }
   ],
   "source": [
    "import matplotlib.pyplot as plt\n",
    "\n",
    "# Group by month and sum total sales\n",
    "monthly_sales = df.groupby(df['Date'].dt.to_period('M'))['TotalSales'].sum()\n",
    "\n",
    "# Convert Monthly Sales Index to datetime for plotting\n",
    "monthly_sales.index = monthly_sales.index.to_timestamp()\n",
    "\n",
    "# Plot line chart\n",
    "plt.figure(figsize=(12,6))\n",
    "plt.plot(monthly_sales.index, monthly_sales.values, marker='o', linestyle='-')\n",
    "\n",
    "plt.title(\"Monthly Sales Trend (2023)\", fontsize=14)\n",
    "plt.xlabel(\"Month\")\n",
    "plt.ylabel(\"Total Sales ($)\")\n",
    "plt.grid(True)\n",
    "plt.show()"
   ]
  },
  {
   "cell_type": "markdown",
   "id": "b309e935",
   "metadata": {},
   "source": [
    "### ^^^ This shows the monthly sale trend by the total sales; We can see the peak revenue for each month."
   ]
  },
  {
   "cell_type": "markdown",
   "id": "b00294ed",
   "metadata": {},
   "source": [
    "# Now for our last step, we can look at customer behavior again & this time we will do the average customer spending value; Wether a customer buys one or a bundle of items."
   ]
  },
  {
   "cell_type": "code",
   "execution_count": 25,
   "id": "b2d08152",
   "metadata": {},
   "outputs": [
    {
     "name": "stdout",
     "output_type": "stream",
     "text": [
      "Average Order Value (AOV): $ 1106.0\n"
     ]
    }
   ],
   "source": [
    "# Average order value by grouping OrderID & TotalSales\n",
    "avg_order_value = df.groupby('OrderID')['TotalSales'].sum().mean()\n",
    "print(\"Average Order Value (AOV): $\", round(avg_order_value, 2))"
   ]
  },
  {
   "cell_type": "markdown",
   "id": "31ef2aa8",
   "metadata": {},
   "source": [
    "### ^^^ This shows how much an average customer spends."
   ]
  },
  {
   "cell_type": "markdown",
   "id": "8bed2dd4",
   "metadata": {},
   "source": [
    "## Now we do the average quantity customers usually buy at once."
   ]
  },
  {
   "cell_type": "code",
   "execution_count": 26,
   "id": "d920efa9",
   "metadata": {},
   "outputs": [
    {
     "name": "stdout",
     "output_type": "stream",
     "text": [
      "Average Quantity per Order: 2.49\n"
     ]
    }
   ],
   "source": [
    "# Average quantity by grouping OrderID & Quantity\n",
    "avg_quantity = df.groupby('OrderID')['Quantity'].sum().mean()\n",
    "print(\"Average Quantity per Order:\", round(avg_quantity, 2))"
   ]
  },
  {
   "cell_type": "markdown",
   "id": "94b9a5db",
   "metadata": {},
   "source": [
    "# Lastly, we will do a visual chart to show the trend of how many customers buy one or multiple items."
   ]
  },
  {
   "cell_type": "code",
   "execution_count": null,
   "id": "0b739ffb",
   "metadata": {},
   "outputs": [],
   "source": []
  }
 ],
 "metadata": {
  "kernelspec": {
   "display_name": "Python 3",
   "language": "python",
   "name": "python3"
  },
  "language_info": {
   "codemirror_mode": {
    "name": "ipython",
    "version": 3
   },
   "file_extension": ".py",
   "mimetype": "text/x-python",
   "name": "python",
   "nbconvert_exporter": "python",
   "pygments_lexer": "ipython3",
   "version": "3.11.5"
  }
 },
 "nbformat": 4,
 "nbformat_minor": 5
}
